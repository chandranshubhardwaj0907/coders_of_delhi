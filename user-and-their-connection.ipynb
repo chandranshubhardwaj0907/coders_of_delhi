{
 "cells": [
  {
   "cell_type": "code",
   "execution_count": 1,
   "id": "0aaab05e-e009-48bf-8cd9-74ea03511011",
   "metadata": {},
   "outputs": [],
   "source": [
    "import json"
   ]
  },
  {
   "cell_type": "code",
   "execution_count": 2,
   "id": "85e3c683-79df-4712-9c48-170d3d230521",
   "metadata": {},
   "outputs": [],
   "source": [
    "def load_data(filename):\n",
    "    with open(filename, \"r\") as f:\n",
    "        data = json.load(f)\n",
    "    return data\n",
    "\n",
    "data2 = load_data(\"data.json\")"
   ]
  },
  {
   "cell_type": "code",
   "execution_count": 3,
   "id": "92650aa1-685a-4fa6-92b9-0e7ae2326e85",
   "metadata": {},
   "outputs": [
    {
     "data": {
      "text/plain": [
       "{'users': [{'id': 1, 'name': 'Amit', 'friends': [2, 3], 'liked_pages': [101]},\n",
       "  {'id': 2, 'name': 'Priya', 'friends': [1, 4], 'liked_pages': [102]},\n",
       "  {'id': 3, 'name': 'Rahul', 'friends': [1], 'liked_pages': [101, 103]},\n",
       "  {'id': 4, 'name': 'Sara', 'friends': [2], 'liked_pages': [104]}],\n",
       " 'pages': [{'id': 101, 'name': 'Python Developers'},\n",
       "  {'id': 102, 'name': 'Data Science Enthusiasts'},\n",
       "  {'id': 103, 'name': 'AI & ML Community'},\n",
       "  {'id': 104, 'name': 'Web Dev Hub'}]}"
      ]
     },
     "execution_count": 3,
     "metadata": {},
     "output_type": "execute_result"
    }
   ],
   "source": [
    "data2"
   ]
  },
  {
   "cell_type": "code",
   "execution_count": 4,
   "id": "45965e9e-7948-41f9-9ef3-a796616c42ca",
   "metadata": {},
   "outputs": [],
   "source": [
    "def display_user(data):\n",
    "    print(\"Users and their connections\\n\")\n",
    "    for user in data['users']:\n",
    "        if 'liked_pages' in user:\n",
    "            print(f\"{user['name']} is friend with: {user['friends']} and likes pages: {user['liked_pages']}\")\n",
    "        else:\n",
    "            print(f\"{user['name']} is friend with: {user['friends']} and likes pages: []\")\n",
    "\n",
    "    print(\"\\nPages information\")\n",
    "    for page in data['pages']:\n",
    "        print(f\"{page['id']}: {page['name']}\")\n"
   ]
  },
  {
   "cell_type": "code",
   "execution_count": 5,
   "id": "452f7a28-17bd-4091-bffd-5e02e9032513",
   "metadata": {},
   "outputs": [
    {
     "name": "stdout",
     "output_type": "stream",
     "text": [
      "Users and their connections\n",
      "\n",
      "Amit is friend with: [2, 3] and likes pages: [101]\n",
      "Priya is friend with: [1, 4] and likes pages: [102]\n",
      "Rahul is friend with: [1] and likes pages: [101, 103]\n",
      "Sara is friend with: [2] and likes pages: [104]\n",
      "\n",
      "Pages information\n",
      "101: Python Developers\n",
      "102: Data Science Enthusiasts\n",
      "103: AI & ML Community\n",
      "104: Web Dev Hub\n"
     ]
    }
   ],
   "source": [
    "data2 = load_data(\"data.json\")  # Or however you loaded your JSON\n",
    "display_user(data2)"
   ]
  },
  {
   "cell_type": "code",
   "execution_count": null,
   "id": "603c84fa-be48-412a-9ac3-1a482af43b8b",
   "metadata": {},
   "outputs": [],
   "source": []
  }
 ],
 "metadata": {
  "kernelspec": {
   "display_name": "Python 3 (ipykernel)",
   "language": "python",
   "name": "python3"
  },
  "language_info": {
   "codemirror_mode": {
    "name": "ipython",
    "version": 3
   },
   "file_extension": ".py",
   "mimetype": "text/x-python",
   "name": "python",
   "nbconvert_exporter": "python",
   "pygments_lexer": "ipython3",
   "version": "3.13.5"
  }
 },
 "nbformat": 4,
 "nbformat_minor": 5
}
