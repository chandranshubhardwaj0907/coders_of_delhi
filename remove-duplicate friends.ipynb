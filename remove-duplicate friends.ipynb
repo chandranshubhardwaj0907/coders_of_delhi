{
 "cells": [
  {
   "cell_type": "code",
   "execution_count": 1,
   "id": "b6f18e03-e3f3-4a9b-b355-186e49562f2c",
   "metadata": {},
   "outputs": [],
   "source": [
    "import json"
   ]
  },
  {
   "cell_type": "code",
   "execution_count": 2,
   "id": "8f6cbad0-ba2a-4ad8-8e27-fc0c7f14f65b",
   "metadata": {},
   "outputs": [
    {
     "name": "stdout",
     "output_type": "stream",
     "text": [
      "Data has been cleaned.\n"
     ]
    }
   ],
   "source": [
    "def clean_data(data):\n",
    "    # Remove users whose 'name' is empty or just whitespace\n",
    "    data[\"users\"] = [user for user in data[\"users\"] if user[\"name\"].strip()]\n",
    "    \n",
    "    # Remove duplicate friends\n",
    "    for user in data[\"users\"]:\n",
    "        user['friends'] = list(set(user['friends']))\n",
    "    # Remove inactivate users\n",
    "    data['users'] = [user for user in data['users'] if user['friends'] or user['liked_pages']]\n",
    "\n",
    "    # Remove duplicate pages\n",
    "    unique_pages = {}\n",
    "    for page in data['pages']:\n",
    "        unique_pages[page['id']] = page\n",
    "    data['pages'] = list(unique_pages.values())    \n",
    "    return data\n",
    "\n",
    "# Load data from 'data2.json'\n",
    "data = json.load(open(\"data2.json\"))\n",
    "\n",
    "# Clean the data\n",
    "data = clean_data(data)\n",
    "\n",
    "# Save cleaned data to a new file\n",
    "json.dump(data, open(\"cleaned_data.json\", \"w\"), indent=4)\n",
    "\n",
    "print(\"Data has been cleaned.\")\n"
   ]
  },
  {
   "cell_type": "code",
   "execution_count": null,
   "id": "09e53b06-2200-406b-ab5a-75222248e19f",
   "metadata": {},
   "outputs": [],
   "source": []
  }
 ],
 "metadata": {
  "kernelspec": {
   "display_name": "Python 3 (ipykernel)",
   "language": "python",
   "name": "python3"
  },
  "language_info": {
   "codemirror_mode": {
    "name": "ipython",
    "version": 3
   },
   "file_extension": ".py",
   "mimetype": "text/x-python",
   "name": "python",
   "nbconvert_exporter": "python",
   "pygments_lexer": "ipython3",
   "version": "3.13.5"
  }
 },
 "nbformat": 4,
 "nbformat_minor": 5
}
