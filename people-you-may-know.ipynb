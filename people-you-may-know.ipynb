{
 "cells": [
  {
   "cell_type": "raw",
   "id": "d40c641e-75cf-4aa2-8b9e-a5bceb39b2c6",
   "metadata": {},
   "source": []
  },
  {
   "cell_type": "code",
   "execution_count": 1,
   "id": "00775d95-97a5-4d1c-a7c4-71365d86d97b",
   "metadata": {},
   "outputs": [],
   "source": [
    "import json"
   ]
  },
  {
   "cell_type": "code",
   "execution_count": 4,
   "id": "81aa7d54-52eb-4c78-ac8d-59eba4cf29b1",
   "metadata": {},
   "outputs": [
    {
     "name": "stdout",
     "output_type": "stream",
     "text": [
      "[4]\n"
     ]
    }
   ],
   "source": [
    "\n",
    "def load_data(filename):\n",
    "    with open(filename, \"r\") as f:\n",
    "        return json.load(f)\n",
    "\n",
    "def find_people(user_id, data):\n",
    "    user_friends = {}\n",
    "    for user in data['users']:\n",
    "        user_friends[user['id']] = set(user['friends'])\n",
    "\n",
    "    if user_id not in user_friends:\n",
    "        return []\n",
    "\n",
    "    # Direct friends of the user\n",
    "    direct_friends = user_friends[user_id]\n",
    "    suggestion = {}\n",
    "\n",
    "    for friend in direct_friends:\n",
    "        for mutual in user_friends.get(friend, []):\n",
    "            if mutual != user_id and mutual not in direct_friends:\n",
    "                suggestion[mutual] = suggestion.get(mutual, 0) + 1\n",
    "    sorted_suggestion = sorted(suggestion.items(), key=lambda x: x[1], reverse=True)\n",
    "    return [user_id for user_id , mutual_count in sorted_suggestion]\n",
    "\n",
    "\n",
    "data = load_data(\"data.json\")\n",
    "user_id =1\n",
    "recc = find_people(user_id , data)\n",
    "print(recc)"
   ]
  },
  {
   "cell_type": "code",
   "execution_count": null,
   "id": "c3da1264-7260-454a-bb37-e9a00d34313c",
   "metadata": {},
   "outputs": [],
   "source": []
  },
  {
   "cell_type": "code",
   "execution_count": null,
   "id": "be64932e-c277-4c52-aa2e-fa60839edb77",
   "metadata": {},
   "outputs": [],
   "source": []
  }
 ],
 "metadata": {
  "kernelspec": {
   "display_name": "Python 3 (ipykernel)",
   "language": "python",
   "name": "python3"
  },
  "language_info": {
   "codemirror_mode": {
    "name": "ipython",
    "version": 3
   },
   "file_extension": ".py",
   "mimetype": "text/x-python",
   "name": "python",
   "nbconvert_exporter": "python",
   "pygments_lexer": "ipython3",
   "version": "3.13.5"
  }
 },
 "nbformat": 4,
 "nbformat_minor": 5
}
